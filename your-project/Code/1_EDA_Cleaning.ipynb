{
 "cells": [
  {
   "cell_type": "markdown",
   "metadata": {},
   "source": [
    "# Intro to Recommender Systems Lab\n",
    "\n",
    "Complete the exercises below to solidify your knowledge and understanding of recommender systems.\n",
    "\n",
    "For this lab, we are going to be putting together a user similarity based recommender system in a step-by-step fashion. Our data set contains customer grocery purchases, and we will use similar purchase behavior to inform our recommender system. Our recommender system will generate 5 recommendations for each customer based on the purchases they have made."
   ]
  },
  {
   "cell_type": "code",
   "execution_count": null,
   "metadata": {},
   "outputs": [],
   "source": [
    "#Libraries\n",
    "#Dataframe and arrays\n",
    "import pandas as pd\n",
    "import numpy as np\n",
    "\n",
    "\n",
    "from scipy.spatial.distance import pdist, squareform"
   ]
  },
  {
   "cell_type": "code",
   "execution_count": null,
   "metadata": {},
   "outputs": [],
   "source": [
    "df = pd.read_excel('../data/online_fashion.xlsx')"
   ]
  },
  {
   "cell_type": "code",
   "execution_count": null,
   "metadata": {},
   "outputs": [],
   "source": [
    "df.isna().sum()"
   ]
  },
  {
   "cell_type": "code",
   "execution_count": null,
   "metadata": {},
   "outputs": [],
   "source": [
    "df.shape"
   ]
  },
  {
   "cell_type": "code",
   "execution_count": null,
   "metadata": {},
   "outputs": [],
   "source": [
    "df.Quantity.unique()"
   ]
  },
  {
   "cell_type": "code",
   "execution_count": null,
   "metadata": {},
   "outputs": [],
   "source": [
    "df.sort_values(by='Quantity')"
   ]
  },
  {
   "cell_type": "code",
   "execution_count": null,
   "metadata": {},
   "outputs": [],
   "source": [
    "df.isnull().sum() / df.shape[0] * 100.00"
   ]
  },
  {
   "cell_type": "code",
   "execution_count": null,
   "metadata": {},
   "outputs": [],
   "source": [
    "df.info()"
   ]
  },
  {
   "cell_type": "code",
   "execution_count": null,
   "metadata": {},
   "outputs": [],
   "source": [
    "df.InvoiceDate.min()"
   ]
  },
  {
   "cell_type": "code",
   "execution_count": null,
   "metadata": {},
   "outputs": [],
   "source": [
    "df.InvoiceDate.max()"
   ]
  },
  {
   "cell_type": "markdown",
   "metadata": {},
   "source": [
    "## Decide what I want to drop"
   ]
  },
  {
   "cell_type": "code",
   "execution_count": null,
   "metadata": {},
   "outputs": [],
   "source": [
    "#Country = Unspecified \n",
    "#CustomerID\n",
    "#Description\n",
    "\n",
    "#####Price\n",
    "#Unit price of 0 (zero)\n",
    "\n",
    "#####Quantity\n",
    "#Massive negative values\n",
    "\n",
    "#####Items\n",
    "#POSTAGE\n",
    "#DOTCOM POSTAGE"
   ]
  },
  {
   "cell_type": "code",
   "execution_count": null,
   "metadata": {},
   "outputs": [],
   "source": []
  },
  {
   "cell_type": "code",
   "execution_count": null,
   "metadata": {},
   "outputs": [],
   "source": [
    "df['Rev'] = df['Quantity']*df['UnitPrice']"
   ]
  },
  {
   "cell_type": "code",
   "execution_count": null,
   "metadata": {},
   "outputs": [],
   "source": [
    "df.head()"
   ]
  },
  {
   "cell_type": "code",
   "execution_count": null,
   "metadata": {},
   "outputs": [],
   "source": [
    "#Top 10 Countries\n",
    "df_top_countries_stg = df.groupby(['Country'])['Rev'].agg('sum')\n",
    "df_top_countries = df_top_countries_stg.sort_values(ascending=False).head(10).to_frame()\n",
    "df_top_countries"
   ]
  },
  {
   "cell_type": "code",
   "execution_count": null,
   "metadata": {},
   "outputs": [],
   "source": [
    "df_top_countries = df_top_countries.reset_index()\n"
   ]
  },
  {
   "cell_type": "code",
   "execution_count": null,
   "metadata": {},
   "outputs": [],
   "source": [
    "top_country_rev = []\n",
    "for i in df_top_countries['Country'][:3]:\n",
    "    top_country_rev.append(i)\n",
    "top_country_rev    "
   ]
  },
  {
   "cell_type": "code",
   "execution_count": null,
   "metadata": {},
   "outputs": [],
   "source": [
    "#Top 10 Description by Revenue - All Countries\n",
    "df_top_items_rev = df.groupby(['Description'])['Rev'].agg('sum')\n",
    "df_top_items_rev.sort_values(ascending=False).head(10)"
   ]
  },
  {
   "cell_type": "code",
   "execution_count": null,
   "metadata": {},
   "outputs": [],
   "source": [
    "#Top 10 Description by Quantity - All Countries\n",
    "df_top_items_vol = df.groupby(['Description'])['Quantity'].agg('sum')\n",
    "df_top_items_vol.sort_values(ascending=False).head(10)"
   ]
  },
  {
   "cell_type": "code",
   "execution_count": null,
   "metadata": {},
   "outputs": [],
   "source": [
    "\n",
    "\n",
    "\n",
    "for i in top_country_rev:\n",
    "    print(df.loc[df['Country'] == i].groupby(['Description'])['Quantity'].agg('sum').sort_values(ascending=False).head(3))\n",
    "    "
   ]
  },
  {
   "cell_type": "code",
   "execution_count": null,
   "metadata": {},
   "outputs": [],
   "source": [
    "df_days_week = df"
   ]
  },
  {
   "cell_type": "code",
   "execution_count": null,
   "metadata": {},
   "outputs": [],
   "source": [
    "df_days_week.info()"
   ]
  },
  {
   "cell_type": "code",
   "execution_count": null,
   "metadata": {},
   "outputs": [],
   "source": [
    "df_days_week['Weekday'] = df_days_week['InvoiceDate'].dt.day_name()\n",
    "df_days_week.head()"
   ]
  },
  {
   "cell_type": "code",
   "execution_count": null,
   "metadata": {},
   "outputs": [],
   "source": [
    "#customers with more than one country\n",
    "df_cust_country = df.groupby(['CustomerID','Country']).count()\n",
    "#df_cust_country.to_frame\n",
    "df_cust_country"
   ]
  },
  {
   "cell_type": "code",
   "execution_count": null,
   "metadata": {},
   "outputs": [],
   "source": [
    "#Revenue by Day of Week - All Countries\n",
    "df_day_of_week_rev = df_days_week.groupby(['Weekday'])['Rev'].agg('sum')\n",
    "df_day_of_week_rev.sort_values(ascending=False)#.head(10)"
   ]
  },
  {
   "cell_type": "code",
   "execution_count": null,
   "metadata": {},
   "outputs": [],
   "source": [
    "df.head()"
   ]
  },
  {
   "cell_type": "code",
   "execution_count": 106,
   "metadata": {},
   "outputs": [
    {
     "data": {
      "text/plain": [
       "(219610, 10)"
      ]
     },
     "execution_count": 106,
     "metadata": {},
     "output_type": "execute_result"
    }
   ],
   "source": [
    "#Customers with Negative Qty\n",
    "#Identify Customer/ Product mix that are negative - i.e. potential returns from outside reporting period\n",
    "\n",
    "df_cust_neg_qty = df.groupby(['CustomerID', 'StockCode'])['Quantity'].agg('sum').to_frame()\n",
    "df_cust_neg_qty.reset_index(inplace=True)\n",
    "df_cust_neg_qty = df_cust_neg_qty.loc[(df_cust_neg_qty['Quantity'] <= 0)]\n",
    "df_cust_neg_qty\n",
    "\n",
    "df_new = df[~(df['StockCode'].isin(df_cust_neg_qty.StockCode) & df['CustomerID'].isin(df_cust_neg_qty.CustomerID))]\n",
    "\n",
    "df_new.shape"
   ]
  },
  {
   "cell_type": "code",
   "execution_count": null,
   "metadata": {},
   "outputs": [],
   "source": []
  },
  {
   "cell_type": "code",
   "execution_count": null,
   "metadata": {},
   "outputs": [],
   "source": []
  },
  {
   "cell_type": "code",
   "execution_count": null,
   "metadata": {},
   "outputs": [],
   "source": []
  },
  {
   "cell_type": "code",
   "execution_count": null,
   "metadata": {},
   "outputs": [],
   "source": []
  },
  {
   "cell_type": "code",
   "execution_count": null,
   "metadata": {},
   "outputs": [],
   "source": []
  },
  {
   "cell_type": "code",
   "execution_count": null,
   "metadata": {},
   "outputs": [],
   "source": [
    "#Top Returning Customers\n",
    "df_top_returners = df.groupby(['CustomerID'])['Quantity'].agg('sum').to_frame()\n",
    "df_top_returners.reset_index(inplace=True)\n",
    "df_top_returners = df_top_returners.loc[(df_top_returners['Quantity'] < 0)].sort_values(by='Quantity', ascending=True)\n",
    "df_top_returners"
   ]
  },
  {
   "cell_type": "code",
   "execution_count": null,
   "metadata": {},
   "outputs": [],
   "source": [
    "#Min Max Mode Median for Each StockCode\n",
    "#HELP!!!!\n",
    "df_product_price_variance = df.groupby(['StockCode'])['UnitPrice'].agg('min')\n",
    "df_product_price_variance"
   ]
  },
  {
   "cell_type": "code",
   "execution_count": null,
   "metadata": {},
   "outputs": [],
   "source": []
  },
  {
   "cell_type": "code",
   "execution_count": null,
   "metadata": {},
   "outputs": [],
   "source": [
    "#Top Invoice Values by Rev\n",
    "df_top_invoices_rev = df.groupby(['InvoiceNo', 'CustomerID'])['Rev'].agg('sum').to_frame()\n",
    "df_top_invoices_rev.reset_index(inplace=True)\n",
    "df_top_invoices_rev = df_top_invoices_rev.sort_values(by='Rev', ascending=False)\n",
    "df_top_invoices_rev"
   ]
  },
  {
   "cell_type": "code",
   "execution_count": null,
   "metadata": {},
   "outputs": [],
   "source": [
    "#Top Invoice Values by Qty\n",
    "df_top_invoices_qty = df.groupby(['InvoiceNo', 'CustomerID'])['Quantity'].agg('sum').to_frame()\n",
    "df_top_invoices_qty.reset_index(inplace=True)\n",
    "df_top_invoices_qty = df_top_invoices_qty.sort_values(by='Quantity', ascending=False)\n",
    "df_top_invoices_qty"
   ]
  },
  {
   "cell_type": "code",
   "execution_count": null,
   "metadata": {},
   "outputs": [],
   "source": [
    "#Top Customer by Rev\n",
    "df_top_customer_rev = df.groupby(['CustomerID'])['Rev'].agg('sum').to_frame()\n",
    "df_top_customer_rev.reset_index(inplace=True)\n",
    "df_top_customer_rev = df_top_customer_rev.sort_values(by='Rev', ascending=False)\n",
    "df_top_customer_rev['CustomerID'] = df_top_customer_rev['CustomerID'].astype(int)\n",
    "df_top_customer_rev"
   ]
  },
  {
   "cell_type": "code",
   "execution_count": null,
   "metadata": {},
   "outputs": [],
   "source": [
    "#Find Min, Max, Mean of StockCodes\n",
    "df_item_prices = df[['StockCode', 'UnitPrice']]\n",
    "df_item_prices.groupby(by='StockCode').agg([min, max, 'mean'])"
   ]
  },
  {
   "cell_type": "code",
   "execution_count": null,
   "metadata": {},
   "outputs": [],
   "source": [
    "#Find Strange StockCodes\n",
    "df_unique_stock_codes = df['StockCode'].unique()\n",
    "df_unique_stock_codes = pd.DataFrame(df_unique_stock_codes)\n",
    "df_unique_stock_codes['len'] = df_unique_stock_codes[0].astype(str).str.len()\n",
    "df_unique_stock_codes.rename(columns={0:'StockCode'}, inplace=True)\n",
    "df_unique_stock_codes.sort_values(by='len')\n",
    "df_unique_stock_codes['len'] = df_unique_stock_codes['len'].astype(int)\n",
    "df_unique_stock_codes.loc[(df_unique_stock_codes['len'] >= 8) | (df_unique_stock_codes['len'] <= 4)].sort_values(by='len')"
   ]
  },
  {
   "cell_type": "code",
   "execution_count": null,
   "metadata": {},
   "outputs": [],
   "source": [
    "\n",
    "df.loc[df['StockCode'] == 'C2']"
   ]
  },
  {
   "cell_type": "code",
   "execution_count": null,
   "metadata": {},
   "outputs": [],
   "source": [
    "#stockcodes to drop\n",
    "df_stock_to_drop_stg = df_unique_stock_codes.loc[(df_unique_stock_codes['len'] >= 8) | (df_unique_stock_codes['len'] <= 4)].sort_values(by='len')\n",
    "df_stock_to_drop_stg.reset_index(drop=True)\n",
    "df_stock_to_drop = pd.concat([df_stock_to_drop_stg.iloc[0:10], df_stock_to_drop_stg.iloc[-6:], df_stock_to_drop_stg.iloc[-9:-8] ])\n",
    "df_stock_to_drop"
   ]
  },
  {
   "cell_type": "code",
   "execution_count": null,
   "metadata": {},
   "outputs": [],
   "source": []
  },
  {
   "cell_type": "code",
   "execution_count": null,
   "metadata": {},
   "outputs": [],
   "source": [
    "#Find Strange Descriptions\n",
    "df_unique_descriptions = df['Description'].unique()\n",
    "df_unique_descriptions = pd.DataFrame(df_unique_descriptions)\n",
    "df_unique_descriptions['len'] = df_unique_descriptions[0].astype(str).str.len()\n",
    "df_unique_descriptions.rename(columns={0:'Description'}, inplace=True)\n",
    "df_unique_descriptions.sort_values(by='len')\n",
    "df_unique_descriptions['len'] = df_unique_descriptions['len'].astype(int)\n",
    "df_unique_descriptions.loc[(df_unique_descriptions['len'] >= 36) | (df_unique_descriptions['len'] <= 11)].sort_values(by='len', ascending=False)"
   ]
  },
  {
   "cell_type": "code",
   "execution_count": null,
   "metadata": {},
   "outputs": [],
   "source": [
    "#Find descriptions with negative works like 'damaged' 'fees' 'mouldy', 'faulty', 'wet', 'lost', 'missing','wrong', 'broke'"
   ]
  },
  {
   "cell_type": "code",
   "execution_count": null,
   "metadata": {},
   "outputs": [],
   "source": []
  },
  {
   "cell_type": "code",
   "execution_count": null,
   "metadata": {},
   "outputs": [],
   "source": [
    "#Get word frequency to assist with categorisation\n",
    "#errors out as some descriptons are rubbish\n",
    "#search lookup string to find counterpart part II: qwerty1wd\n",
    "\n",
    "from collections import defaultdict\n",
    "\n",
    "import pandas as pd\n",
    "\n",
    "text_list = []\n",
    "\n",
    "#need to get unique descriptions\n",
    "\n",
    "df_uniq_descs = df['Description'].unique()\n",
    "\n",
    "for i in df_uniq_descs[:395]:\n",
    "    text_list.append(i)\n",
    "\n",
    "word_freq = defaultdict(int)\n",
    "\n",
    "for text in text_list:\n",
    "    for word in text.split():\n",
    "        word_freq[word] += 1\n",
    "\n",
    "pd.DataFrame.from_dict(word_freq, orient='index') \\\n",
    ".sort_values(0, ascending=False) \\\n",
    ".rename(columns={0: 'abs_freq'})\n",
    "    \n",
    "    \n",
    "    "
   ]
  },
  {
   "cell_type": "code",
   "execution_count": null,
   "metadata": {},
   "outputs": [],
   "source": [
    "#same as above - this works too!\n",
    "#wrod count\n",
    "#search lookup string to find counterpart part I: qwerty1wd\n",
    "text_list = []\n",
    "\n",
    "#need to get unique descriptions\n",
    "\n",
    "word_freq = defaultdict(int)\n",
    "\n",
    "for text in df['Description'][:395].unique():\n",
    "    for word in text.split():\n",
    "        word_freq[word] += 1\n",
    "\n",
    "pd.DataFrame.from_dict(word_freq, orient='index') \\\n",
    ".sort_values(0, ascending=False) \\\n",
    ".rename(columns={0: 'abs_freq'})\n",
    "    "
   ]
  },
  {
   "cell_type": "code",
   "execution_count": null,
   "metadata": {},
   "outputs": [],
   "source": [
    "len(df['StockCode'].unique())"
   ]
  },
  {
   "cell_type": "code",
   "execution_count": null,
   "metadata": {},
   "outputs": [],
   "source": [
    "len(df['CustomerID'].unique())"
   ]
  },
  {
   "cell_type": "code",
   "execution_count": null,
   "metadata": {},
   "outputs": [],
   "source": [
    "#Finding Customers with more than 1 Country listed\n",
    "df_customer_stg = df.groupby('CustomerID')['Country'].unique()\n",
    "df_customer_stg.loc[df_customer_stg.apply(lambda x:len(x)>1)]"
   ]
  },
  {
   "cell_type": "code",
   "execution_count": null,
   "metadata": {},
   "outputs": [],
   "source": [
    "pd.DataFrame(df_customer_stg)"
   ]
  },
  {
   "cell_type": "code",
   "execution_count": null,
   "metadata": {},
   "outputs": [],
   "source": [
    "#Finding StockCodes with  more than 1 Description listed\n",
    "df_inventory_stg = df.groupby('StockCode')['Description'].unique()\n",
    "df_inventory_stg.loc[df_inventory_stg.apply(lambda x:len(x)>1)]\n",
    "\n",
    "#greater than 1 = 1324\n",
    "#greater than 2 = 255\n",
    "#greater than 3 = 70\n",
    "#greater than 4 = 20\n",
    "#greater than 5 = 6"
   ]
  },
  {
   "cell_type": "code",
   "execution_count": null,
   "metadata": {},
   "outputs": [],
   "source": [
    "#Find Cusomters who have returned items that weren't purchased in this reporting period\n",
    "df_customers_returning_non_purchased_stg = df.groupby(['CustomerID', 'StockCode'])['Quantity'].agg('sum')\n",
    "df_customers_returning_non_purchased = df_customers_returning_non_purchased_stg[lambda x: x<=0]\n",
    "df_customers_returning_non_purchased = pd.DataFrame(df_customers_returning_non_purchased)\n",
    "df_customers_returning_non_purchased"
   ]
  },
  {
   "cell_type": "code",
   "execution_count": null,
   "metadata": {},
   "outputs": [],
   "source": [
    "#Calculate Weighted Average Price (AWP) Part I\n",
    "df_awp_trial = df[['StockCode','Quantity','Rev']]\n",
    "df_awp_trial.groupby('StockCode').agg({'Quantity': ['sum'], 'Rev': ['sum']})\n",
    "##need to divide SUM by QTY to give AWP\n"
   ]
  },
  {
   "cell_type": "code",
   "execution_count": null,
   "metadata": {},
   "outputs": [],
   "source": [
    "#Calculate Weighted Average Price (AWP) PArt II\n",
    "#df_AWP_stg = df.groupby(['StockCode'])['Quantity','UnitPrice'].agg('sum',count)\n",
    "#df_AWP_stg\n",
    "\n",
    "\n",
    "df.groupby('StockCode').agg({'Quantity': ['sum','count'], 'UnitPrice': ['sum','count']})\n",
    "\n",
    "# sum(qty*unit_price - by row) / sum(total Qty)\n",
    "\n",
    "\n",
    "#df_AWP = df_AWP_stg[lambda x: x<=0]\n",
    "#df_AWP = pd.DataFrame(df_AWP)\n",
    "#df_AWP"
   ]
  },
  {
   "cell_type": "code",
   "execution_count": null,
   "metadata": {},
   "outputs": [],
   "source": [
    "#Calculate Weighted Average Price (AWP) PArt III\n",
    "grouped = df.groupby('Date')\n",
    "\n",
    "def wavg(group):\n",
    "    d = group['value']\n",
    "    w = group['wt']\n",
    "    return (d * w).sum() / w.sum()\n",
    "\n",
    "grouped.apply(wavg)"
   ]
  },
  {
   "cell_type": "code",
   "execution_count": 51,
   "metadata": {},
   "outputs": [
    {
     "name": "stdout",
     "output_type": "stream",
     "text": [
      "<pandas.core.groupby.generic.DataFrameGroupBy object at 0x000002786386B8D0>\n"
     ]
    }
   ],
   "source": [
    "df.groupby(['StockCode','UnitPrice'])"
   ]
  },
  {
   "cell_type": "code",
   "execution_count": null,
   "metadata": {},
   "outputs": [],
   "source": []
  },
  {
   "cell_type": "code",
   "execution_count": null,
   "metadata": {},
   "outputs": [],
   "source": []
  },
  {
   "cell_type": "code",
   "execution_count": null,
   "metadata": {},
   "outputs": [],
   "source": []
  },
  {
   "cell_type": "code",
   "execution_count": null,
   "metadata": {},
   "outputs": [],
   "source": []
  },
  {
   "cell_type": "code",
   "execution_count": null,
   "metadata": {},
   "outputs": [],
   "source": []
  },
  {
   "cell_type": "code",
   "execution_count": null,
   "metadata": {},
   "outputs": [],
   "source": []
  },
  {
   "cell_type": "code",
   "execution_count": null,
   "metadata": {},
   "outputs": [],
   "source": []
  },
  {
   "cell_type": "code",
   "execution_count": null,
   "metadata": {},
   "outputs": [],
   "source": [
    "def tagforremoval_negqty(row):\n",
    "    '''\n",
    "    Input: Row (which will be slicked into columns)\n",
    "    Output: 1 or 0 depening on if row is to be deleted\n",
    "    \n",
    "    The purpose of this function is to tag rows for deletion.\n",
    "    '''\n",
    "    if row['CustomerID'].isin(df_cust_neg_qty.CustomerID) & row['StockCode'].isin(df_cust_neg_qty.StockCode):\n",
    "        return 1\n",
    "    else:\n",
    "        return 0\n"
   ]
  }
 ],
 "metadata": {
  "kernelspec": {
   "display_name": "Python 3",
   "language": "python",
   "name": "python3"
  },
  "language_info": {
   "codemirror_mode": {
    "name": "ipython",
    "version": 3
   },
   "file_extension": ".py",
   "mimetype": "text/x-python",
   "name": "python",
   "nbconvert_exporter": "python",
   "pygments_lexer": "ipython3",
   "version": "3.7.3"
  }
 },
 "nbformat": 4,
 "nbformat_minor": 2
}
